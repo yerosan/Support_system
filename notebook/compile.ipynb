{
 "cells": [
  {
   "cell_type": "code",
   "execution_count": 1,
   "metadata": {},
   "outputs": [],
   "source": [
    "import os\n",
    "import sys\n",
    "\n",
    "sys.path.insert(0,os.path.dirname(os.getcwd()))"
   ]
  },
  {
   "cell_type": "code",
   "execution_count": 3,
   "metadata": {},
   "outputs": [],
   "source": [
    "from core import data_processing, embeddingVerctorStore\n",
    "from retrievel import llamaRetriever,rag_query"
   ]
  },
  {
   "cell_type": "code",
   "execution_count": 4,
   "metadata": {},
   "outputs": [],
   "source": [
    "file_path=\"../../Yerosan Tadesse_Data analytics developer.pdf\""
   ]
  },
  {
   "cell_type": "code",
   "execution_count": 5,
   "metadata": {},
   "outputs": [
    {
     "name": "stdout",
     "output_type": "stream",
     "text": [
      "the file name__-----_ ../../Yerosan Tadesse_Data analytics developer.pdf\n",
      "The Documents___----_ Yerosan Tadesse  \n",
      "Addis Ababa, Ethiopia  \n",
      "yerosantad ee3@gmail. com \n",
      "+251925485 240 \n",
      "October -6-2024 \n",
      "Hiring Manager  \n",
      "IT Billing Systems & Assurance  \n",
      "Safaricom -ethiopia  \n",
      "Addis Ababa, Ethiopia  \n",
      "Dear Hiring Manager,  \n",
      "I am writing to express my interest in the Data Analytics Developer - CVM  position at your \n",
      "company. With over 3 years of industry experience in software development, data modeling, and \n",
      "building scalable solutions, I am confident in my ability to contribute to the success of your \n",
      "CVM platform . \n",
      "In my previous roles, I developed and maintained data marts, optimized data pipelines, and \n",
      "created advanced analytics that helped businesses make data -driven decisions. I have hands -on \n",
      "experience in SQL and Python, along with proficiency in both relational and NoSQL databases \n",
      "such as MongoDB . My expertise also includes performing data validation, cleansing, query \n",
      "optimization, and supporting data governance and quality management initiatives.  \n",
      "I am passionate about leveraging data to drive business outcomes and look forward to bringing \n",
      "my skills to your team. I am eager to contribute to your organization's goals and thrive in an \n",
      "innovative environment.  \n",
      "Thank you for considering my application. I look forward to the opportunity to discuss how I can \n",
      "contribute to the success of your team.  \n",
      "Sincerely,  \n",
      "Yerosan Tadesse  \n",
      " \n",
      " \n",
      " \n",
      " \n",
      " \n",
      " \n",
      " \n",
      "  \n",
      "\n"
     ]
    }
   ],
   "source": [
    "text_content=data_processing.extract_text_from_pdf(file_path)"
   ]
  },
  {
   "cell_type": "code",
   "execution_count": 6,
   "metadata": {},
   "outputs": [
    {
     "name": "stdout",
     "output_type": "stream",
     "text": [
      "[Document(metadata={'start_index': 0}, page_content='Yerosan Tadesse  \\nAddis Ababa, Ethiopia  \\nyerosantad ee3@gmail. com \\n+251925485 240 \\nOctober -6-2024 \\nHiring Manager  \\nIT Billing Systems & Assurance  \\nSafaricom -ethiopia  \\nAddis Ababa, Ethiopia  \\nDear Hiring Manager,  \\nI am writing to express my interest in the Data Analytics Developer - CVM  position at your \\ncompany. With over 3 years of industry experience in software development, data modeling, and \\nbuilding scalable solutions, I am confident in my ability to contribute to the success of your \\nCVM platform . \\nIn my previous roles, I developed and maintained data marts, optimized data pipelines, and \\ncreated advanced analytics that helped businesses make data -driven decisions. I have hands -on \\nexperience in SQL and Python, along with proficiency in both relational and NoSQL databases \\nsuch as MongoDB . My expertise also includes performing data validation, cleansing, query \\noptimization, and supporting data governance and quality management initiatives.'), Document(metadata={'start_index': 803}, page_content=\"such as MongoDB . My expertise also includes performing data validation, cleansing, query \\noptimization, and supporting data governance and quality management initiatives.  \\nI am passionate about leveraging data to drive business outcomes and look forward to bringing \\nmy skills to your team. I am eager to contribute to your organization's goals and thrive in an \\ninnovative environment.  \\nThank you for considering my application. I look forward to the opportunity to discuss how I can \\ncontribute to the success of your team.  \\nSincerely,  \\nYerosan Tadesse\")]\n"
     ]
    }
   ],
   "source": [
    "documentSpiliter=embeddingVerctorStore.generate_embeddings(text_content)"
   ]
  },
  {
   "cell_type": "code",
   "execution_count": 7,
   "metadata": {},
   "outputs": [
    {
     "name": "stdout",
     "output_type": "stream",
     "text": [
      "Starting the retrieval process\n"
     ]
    },
    {
     "name": "stderr",
     "output_type": "stream",
     "text": [
      "c:\\Users\\Coop\\miniconda3\\envs\\chatSystem\\lib\\site-packages\\tqdm\\auto.py:21: TqdmWarning: IProgress not found. Please update jupyter and ipywidgets. See https://ipywidgets.readthedocs.io/en/stable/user_install.html\n",
      "  from .autonotebook import tqdm as notebook_tqdm\n"
     ]
    },
    {
     "name": "stdout",
     "output_type": "stream",
     "text": [
      "Number of splits (documents) to be added to vectorstore: 2\n",
      "Sample document content: page_content='Yerosan Tadesse  \n",
      "Addis Ababa, Ethiopia  \n",
      "yerosantad ee3@gmail. com \n",
      "+251925485 240 \n",
      "October -6-2024 \n",
      "Hiring Manager  \n",
      "IT Billing Systems & Assurance  \n",
      "Safaricom -ethiopia  \n",
      "Addis Ababa, Ethiopia  \n",
      "Dear Hiring Manager,  \n",
      "I am writing to express my interest in the Data Analytics Developer - CVM  position at your \n",
      "company. With over 3 years of industry experience in software development, data modeling, and \n",
      "building scalable solutions, I am confident in my ability to contribute to the success of your \n",
      "CVM platform . \n",
      "In my previous roles, I developed and maintained data marts, optimized data pipelines, and \n",
      "created advanced analytics that helped businesses make data -driven decisions. I have hands -on \n",
      "experience in SQL and Python, along with proficiency in both relational and NoSQL databases \n",
      "such as MongoDB . My expertise also includes performing data validation, cleansing, query \n",
      "optimization, and supporting data governance and quality management initiatives.' metadata={'start_index': 0}\n",
      "Vectorstore successfully initialized.\n",
      "Retrieval completed\n",
      "Embeddings initialized with model: all-MiniLM-L6-v2\n",
      "Number of documents stored in Chroma vectorstore: 2\n",
      "Retriever created: tags=['Chroma', 'HuggingFaceEmbeddings'] vectorstore=<langchain_community.vectorstores.chroma.Chroma object at 0x0000025B1B1A6C50> search_kwargs={}\n"
     ]
    }
   ],
   "source": [
    "retrievelChain=embeddingVerctorStore.create_retrieval_chain(documentSpiliter)"
   ]
  },
  {
   "cell_type": "code",
   "execution_count": 8,
   "metadata": {},
   "outputs": [
    {
     "data": {
      "text/plain": [
       "VectorStoreRetriever(tags=['Chroma', 'HuggingFaceEmbeddings'], vectorstore=<langchain_community.vectorstores.chroma.Chroma object at 0x0000025B1B1A6C50>, search_kwargs={})"
      ]
     },
     "execution_count": 8,
     "metadata": {},
     "output_type": "execute_result"
    }
   ],
   "source": [
    "retrievelChain"
   ]
  },
  {
   "cell_type": "code",
   "execution_count": 9,
   "metadata": {},
   "outputs": [],
   "source": [
    "query_model=llamaRetriever.query_ollama_model"
   ]
  },
  {
   "cell_type": "code",
   "execution_count": 10,
   "metadata": {},
   "outputs": [
    {
     "name": "stdout",
     "output_type": "stream",
     "text": [
      "Hi Yerosan, I'm doing well, thank you for asking! It's great to meet you. I'm an AI designed to assist and communicate with users like you, so I don't have feelings or emotions like humans do. However, I'm always happy to chat with someone new and help with any questions or topics they'd like to discuss.\n",
      "\n",
      "How about you? How's your day going? Is there something on your mind that you'd like to talk about or ask for help with?"
     ]
    }
   ],
   "source": [
    "query_model(\"Hello I am yerosan how are  you doing\")"
   ]
  },
  {
   "cell_type": "code",
   "execution_count": 11,
   "metadata": {},
   "outputs": [
    {
     "name": "stderr",
     "output_type": "stream",
     "text": [
      "c:\\Users\\Coop\\Desktop\\ml_pro\\ollama\\ollamaApp\\fastApiBackend\\supportSystem\\retrievel\\rag_query.py:3: LangChainDeprecationWarning: The method `BaseRetriever.get_relevant_documents` was deprecated in langchain-core 0.1.46 and will be removed in 1.0. Use :meth:`~invoke` instead.\n",
      "  docs = retriever.get_relevant_documents(query)\n",
      "Number of requested results 4 is greater than number of elements in index 2, updating n_results = 2\n"
     ]
    },
    {
     "name": "stdout",
     "output_type": "stream",
     "text": [
      "**Summary and Comparative Analysis of Yerosan Tadesse's CV**\n",
      "\n",
      "Yerosan Tadesse's CV presents a compelling narrative showcasing his expertise as a seasoned IT professional with a strong background in software development, data modeling, and analytics. Here's a summary of the main concepts and comparative points that stand out:\n",
      "\n",
      "**Key Strengths:**\n",
      "\n",
      "1. **Technical Expertise**: Proficiency in SQL, Python, and experience with relational (e.g., MySQL) and NoSQL databases (e.g., MongoDB).\n",
      "2. **Data Analysis and Development**: Proven track record of developing and maintaining data marts, optimizing data pipelines, and creating advanced analytics to drive business decisions.\n",
      "3. **Scalable Solutions**: Demonstrated ability to build scalable solutions, indicating adaptability in a rapidly changing IT landscape.\n",
      "\n",
      "**Comparative Points:**\n",
      "\n",
      "1. **Similarities with other candidates?**: Although the CV doesn't specify, candidates with similar backgrounds in software development and data analysis are likely to be considered.\n",
      "2. **Unique selling points**: Yerosan's passion for leveraging data to drive business outcomes and his eagerness to contribute to an innovative environment set him apart from other applicants.\n",
      "3. **Gaps in experience**: While the CV doesn't mention any specific gaps, candidates with similar lengths of service in software development and data analysis roles may be considered equally qualified.\n",
      "\n",
      "**Recommendations:**\n",
      "\n",
      "1. **Tailor application materials**: Consider emphasizing relevant projects or achievements to demonstrate value to potential employers.\n",
      "2. **Highlight transferable skills**: Emphasize skills that can be applied across different industries, such as problem-solving, analytical thinking, and communication.\n",
      "3. **Network and build connections**: Leverage professional networks to learn about job opportunities and stay informed about industry trends.\n",
      "\n",
      "**Overall Assessment:**\n",
      "Yerosan Tadesse's CV presents a strong narrative of technical expertise, data analysis capabilities, and adaptability in a rapidly changing IT landscape. By highlighting unique selling points and emphasizing transferable skills, candidates can increase their chances of standing out in a competitive job market."
     ]
    }
   ],
   "source": [
    "query = \"Now summarize main conceptive of the CV the detail compitative point . try to write with a best writing fromat\"\n",
    "response = rag_query.query_rag_system(query_model,retrievelChain, query)"
   ]
  },
  {
   "cell_type": "code",
   "execution_count": null,
   "metadata": {},
   "outputs": [
    {
     "name": "stderr",
     "output_type": "stream",
     "text": [
      "Number of requested results 4 is greater than number of elements in index 2, updating n_results = 2\n"
     ]
    },
    {
     "name": "stdout",
     "output_type": "stream",
     "text": [
      "EDA stands for Exploratory Data Analysis. It's a process used to summarize and describe datasets in order to understand their structure, distribution, and relationships, often with the goal of discovering insights or patterns that can inform business decisions or problem-solving.\n",
      "\n",
      "In this context, it seems like Yerosan Tadesse is highlighting his expertise in data analysis and exploration, which would be relevant to the Data Analytics Developer - CVM position at Safaricom-Ethiopia."
     ]
    }
   ],
   "source": [
    "query = \"What is EDA\"\n",
    "response = rag_query.query_rag_system(query_model,retrievelChain, query)"
   ]
  },
  {
   "cell_type": "code",
   "execution_count": null,
   "metadata": {},
   "outputs": [
    {
     "name": "stderr",
     "output_type": "stream",
     "text": [
      "Number of requested results 4 is greater than number of elements in index 2, updating n_results = 2\n"
     ]
    },
    {
     "name": "stdout",
     "output_type": "stream",
     "text": [
      "Elon Musk is not mentioned in the provided context. The text only talks about Yerosan Tadesse's application for a Data Analytics Developer - CVM position at Safaricom Ethiopia. \n",
      "\n",
      "However, I can provide some general information about Elon Musk if you'd like! \n",
      "\n",
      "Elon Musk is a South African-born entrepreneur, inventor, and business magnate. He is the CEO of SpaceX and Tesla, Inc., and has been involved in various other ventures such as Neuralink and The Boring Company. He is known for his innovative ideas and vision for the future, particularly in the fields of electric cars, renewable energy, and space exploration."
     ]
    }
   ],
   "source": [
    "query = \"Who is Elon musk\"\n",
    "response = rag_query.query_rag_system(query_model,retrievelChain, query)"
   ]
  },
  {
   "cell_type": "code",
   "execution_count": null,
   "metadata": {},
   "outputs": [],
   "source": [
    "rag_query(query_model,)"
   ]
  }
 ],
 "metadata": {
  "kernelspec": {
   "display_name": "chatSystem",
   "language": "python",
   "name": "python3"
  },
  "language_info": {
   "codemirror_mode": {
    "name": "ipython",
    "version": 3
   },
   "file_extension": ".py",
   "mimetype": "text/x-python",
   "name": "python",
   "nbconvert_exporter": "python",
   "pygments_lexer": "ipython3",
   "version": "3.10.15"
  }
 },
 "nbformat": 4,
 "nbformat_minor": 2
}
